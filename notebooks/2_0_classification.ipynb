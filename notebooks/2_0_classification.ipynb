{
  "nbformat": 4,
  "nbformat_minor": 0,
  "metadata": {
    "kernelspec": {
      "display_name": "Python 3",
      "language": "python",
      "name": "python3"
    },
    "language_info": {
      "codemirror_mode": {
        "name": "ipython",
        "version": 3
      },
      "file_extension": ".py",
      "mimetype": "text/x-python",
      "name": "python",
      "nbconvert_exporter": "python",
      "pygments_lexer": "ipython3",
      "version": "3.7.6"
    },
    "colab": {
      "name": "2.0-classification.ipynb",
      "provenance": []
    }
  },
  "cells": [
    {
      "cell_type": "code",
      "metadata": {
        "id": "VAYUwxIp7OJ2"
      },
      "source": [
        "from sklearn import svm\n",
        "from sklearn.decomposition import PCA\n",
        "from sklearn.metrics import classification_report, plot_confusion_matrix, confusion_matrix\n",
        "from sklearn.model_selection import GridSearchCV, train_test_split\n",
        "from sklearn.pipeline import Pipeline\n",
        "\n",
        "import numpy as np\n",
        "from math import ceil, floor\n",
        "\n",
        "import matplotlib.image as mpimg\n",
        "import matplotlib.pyplot as plt\n",
        "import random\n",
        "import cv2\n",
        "\n",
        "import os"
      ],
      "execution_count": 26,
      "outputs": []
    },
    {
      "cell_type": "code",
      "metadata": {
        "colab": {
          "base_uri": "https://localhost:8080/"
        },
        "id": "3e0LLj1K7WJK",
        "outputId": "515f3998-f02c-4406-9876-3ca5f7c31625"
      },
      "source": [
        "from google.colab import drive\n",
        "drive.mount('/gdrive')\n",
        "%cd /gdrive"
      ],
      "execution_count": 2,
      "outputs": [
        {
          "output_type": "stream",
          "text": [
            "Drive already mounted at /gdrive; to attempt to forcibly remount, call drive.mount(\"/gdrive\", force_remount=True).\n",
            "/gdrive\n"
          ],
          "name": "stdout"
        }
      ]
    },
    {
      "cell_type": "code",
      "metadata": {
        "colab": {
          "base_uri": "https://localhost:8080/"
        },
        "id": "MHUYJ0ll7vd5",
        "outputId": "4bdf093a-fe13-4765-ecaa-b27f3435c3be"
      },
      "source": [
        "%ls /gdrive/MyDrive/Colab\\ Notebooks/ML\\ ciencias\\ da\\ vida/processed/"
      ],
      "execution_count": 3,
      "outputs": [
        {
          "output_type": "stream",
          "text": [
            "\u001b[0m\u001b[01;34mno\u001b[0m/  \u001b[01;34myes\u001b[0m/\n"
          ],
          "name": "stdout"
        }
      ]
    },
    {
      "cell_type": "code",
      "metadata": {
        "id": "etSX1VwB7OKL"
      },
      "source": [
        "path = \"/gdrive/MyDrive/Colab Notebooks/ML ciencias da vida/processed\""
      ],
      "execution_count": 4,
      "outputs": []
    },
    {
      "cell_type": "code",
      "metadata": {
        "id": "Zt3oDjK67OKM"
      },
      "source": [
        "brain_tumor_n = []\n",
        "brain_tumor_y = []\n",
        "\n",
        "folder = f\"{path}/no\"\n",
        "with os.scandir(folder) as images:\n",
        "    for i, image in enumerate(images):\n",
        "        img = cv2.imread(f\"{folder}/{image.name}\", 0)\n",
        "        if image.name.endswith('.jpg'):\n",
        "            brain_tumor_n.append(img)\n",
        "        \n",
        "folder = f\"{path}/yes\"\n",
        "with os.scandir(folder) as images:\n",
        "    for i, image in enumerate(images):\n",
        "        img = cv2.imread(f\"{folder}/{image.name}\", 0)\n",
        "        if image.name.endswith('.jpg'):\n",
        "            brain_tumor_y.append(img)"
      ],
      "execution_count": 5,
      "outputs": []
    },
    {
      "cell_type": "code",
      "metadata": {
        "id": "RSrn0ROh7OKN"
      },
      "source": [
        "n_no = len(brain_tumor_n)\n",
        "n_yes = len(brain_tumor_y) \n",
        "w, h = brain_tumor_n[0].shape\n",
        "\n",
        "# une imagens\n",
        "flatten_n = np.array(brain_tumor_n).reshape(n_no, w * h)\n",
        "flatten_y = np.array(brain_tumor_y).reshape(n_yes, w * h)\n",
        "X = np.concatenate((flatten_n,  flatten_y ))\n",
        "\n",
        "#recupera targets\n",
        "# 0 -> sem tumor, 1 -> com tumor\n",
        "y = np.concatenate( (np.zeros(n_no), np.ones(n_yes) ), axis=0)\n",
        "assert(y.shape[0] == X.shape[0])"
      ],
      "execution_count": 6,
      "outputs": []
    },
    {
      "cell_type": "code",
      "metadata": {
        "id": "mG8RyG6v7OKO"
      },
      "source": [
        "X_train, X_test, y_train, y_test = train_test_split(\n",
        "    X, y, test_size=0.5)"
      ],
      "execution_count": 7,
      "outputs": []
    },
    {
      "cell_type": "code",
      "metadata": {
        "colab": {
          "base_uri": "https://localhost:8080/"
        },
        "id": "SKRwUZT-7OKP",
        "outputId": "eee480c2-a42c-4355-8b22-cabd77a7c74c"
      },
      "source": [
        "X_train.shape"
      ],
      "execution_count": 8,
      "outputs": [
        {
          "output_type": "execute_result",
          "data": {
            "text/plain": [
              "(126, 22500)"
            ]
          },
          "metadata": {
            "tags": []
          },
          "execution_count": 8
        }
      ]
    },
    {
      "cell_type": "code",
      "metadata": {
        "colab": {
          "base_uri": "https://localhost:8080/"
        },
        "id": "8YUmIq1L7OKQ",
        "outputId": "2da3fcf2-6779-4531-a497-daf2e5542f88"
      },
      "source": [
        "pca = PCA(n_components = 0.7, whiten = True)\n",
        "pca.fit(X_train)\n",
        "projected = pca.fit_transform(X_test)\n",
        "projected.shape"
      ],
      "execution_count": 9,
      "outputs": [
        {
          "output_type": "execute_result",
          "data": {
            "text/plain": [
              "(127, 25)"
            ]
          },
          "metadata": {
            "tags": []
          },
          "execution_count": 9
        }
      ]
    },
    {
      "cell_type": "code",
      "metadata": {
        "colab": {
          "base_uri": "https://localhost:8080/"
        },
        "id": "YVPgcF3x7OKR",
        "outputId": "28dfb9a2-327f-467a-c759-e8f967cbe5da"
      },
      "source": [
        "parameters = {'svc__kernel':('linear', 'rbf'), 'svc__C':[1, 10, 100],\n",
        "              'svc__gamma': ['scale', 1e-3, 1e-4]}\n",
        "\n",
        "pca = PCA(n_components=0.7, whiten = True)\n",
        "svc = svm.SVC()\n",
        "pipe = Pipeline(steps=[('pca', pca), ('svc', svc)])\n",
        "\n",
        "clf = GridSearchCV(pipe, parameters)\n",
        "clf.fit(X_train, y_train)"
      ],
      "execution_count": 30,
      "outputs": [
        {
          "output_type": "execute_result",
          "data": {
            "text/plain": [
              "GridSearchCV(cv=None, error_score=nan,\n",
              "             estimator=Pipeline(memory=None,\n",
              "                                steps=[('pca',\n",
              "                                        PCA(copy=True, iterated_power='auto',\n",
              "                                            n_components=0.7, random_state=None,\n",
              "                                            svd_solver='auto', tol=0.0,\n",
              "                                            whiten=True)),\n",
              "                                       ('svc',\n",
              "                                        SVC(C=1.0, break_ties=False,\n",
              "                                            cache_size=200, class_weight=None,\n",
              "                                            coef0=0.0,\n",
              "                                            decision_function_shape='ovr',\n",
              "                                            degree=3, gamma='scale',\n",
              "                                            kernel='rbf', max_iter=-1,\n",
              "                                            probability=False,\n",
              "                                            random_state=None, shrinking=True,\n",
              "                                            tol=0.001, verbose=False))],\n",
              "                                verbose=False),\n",
              "             iid='deprecated', n_jobs=None,\n",
              "             param_grid={'svc__C': [1, 10, 100],\n",
              "                         'svc__gamma': ['scale', 0.001, 0.0001],\n",
              "                         'svc__kernel': ('linear', 'rbf')},\n",
              "             pre_dispatch='2*n_jobs', refit=True, return_train_score=False,\n",
              "             scoring=None, verbose=0)"
            ]
          },
          "metadata": {
            "tags": []
          },
          "execution_count": 30
        }
      ]
    },
    {
      "cell_type": "code",
      "metadata": {
        "colab": {
          "base_uri": "https://localhost:8080/"
        },
        "id": "Cg39I4Me7OKS",
        "outputId": "c658dc2a-2f78-45b4-efc4-7f73726a7eb9"
      },
      "source": [
        "print(\"Best parameters set found on development set:\")\n",
        "print()\n",
        "print(clf.best_params_)\n",
        "print()\n",
        "print(\"Grid scores on development set:\")\n",
        "print()\n",
        "means = clf.cv_results_['mean_test_score']\n",
        "stds = clf.cv_results_['std_test_score']\n",
        "for mean, std, params in zip(means, stds, clf.cv_results_['params']):\n",
        "    print(\"%0.3f (+/-%0.03f) for %r\"\n",
        "          % (mean, std * 2, params))\n",
        "print()\n",
        "\n",
        "print(\"Detailed classification report:\")\n",
        "print()\n",
        "print(\"The model is trained on the full development set.\")\n",
        "print(\"The scores are computed on the full evaluation set.\")\n",
        "print()\n",
        "y_true, y_pred = y_test, clf.predict(X_test)\n",
        "print(classification_report(y_true, y_pred))\n",
        "print()"
      ],
      "execution_count": 31,
      "outputs": [
        {
          "output_type": "stream",
          "text": [
            "Best parameters set found on development set:\n",
            "\n",
            "{'svc__C': 10, 'svc__gamma': 'scale', 'svc__kernel': 'rbf'}\n",
            "\n",
            "Grid scores on development set:\n",
            "\n",
            "0.714 (+/-0.107) for {'svc__C': 1, 'svc__gamma': 'scale', 'svc__kernel': 'linear'}\n",
            "0.746 (+/-0.107) for {'svc__C': 1, 'svc__gamma': 'scale', 'svc__kernel': 'rbf'}\n",
            "0.714 (+/-0.107) for {'svc__C': 1, 'svc__gamma': 0.001, 'svc__kernel': 'linear'}\n",
            "0.627 (+/-0.033) for {'svc__C': 1, 'svc__gamma': 0.001, 'svc__kernel': 'rbf'}\n",
            "0.714 (+/-0.107) for {'svc__C': 1, 'svc__gamma': 0.0001, 'svc__kernel': 'linear'}\n",
            "0.627 (+/-0.033) for {'svc__C': 1, 'svc__gamma': 0.0001, 'svc__kernel': 'rbf'}\n",
            "0.699 (+/-0.103) for {'svc__C': 10, 'svc__gamma': 'scale', 'svc__kernel': 'linear'}\n",
            "0.817 (+/-0.066) for {'svc__C': 10, 'svc__gamma': 'scale', 'svc__kernel': 'rbf'}\n",
            "0.699 (+/-0.103) for {'svc__C': 10, 'svc__gamma': 0.001, 'svc__kernel': 'linear'}\n",
            "0.675 (+/-0.075) for {'svc__C': 10, 'svc__gamma': 0.001, 'svc__kernel': 'rbf'}\n",
            "0.699 (+/-0.103) for {'svc__C': 10, 'svc__gamma': 0.0001, 'svc__kernel': 'linear'}\n",
            "0.627 (+/-0.033) for {'svc__C': 10, 'svc__gamma': 0.0001, 'svc__kernel': 'rbf'}\n",
            "0.683 (+/-0.042) for {'svc__C': 100, 'svc__gamma': 'scale', 'svc__kernel': 'linear'}\n",
            "0.770 (+/-0.130) for {'svc__C': 100, 'svc__gamma': 'scale', 'svc__kernel': 'rbf'}\n",
            "0.683 (+/-0.042) for {'svc__C': 100, 'svc__gamma': 0.001, 'svc__kernel': 'linear'}\n",
            "0.715 (+/-0.146) for {'svc__C': 100, 'svc__gamma': 0.001, 'svc__kernel': 'rbf'}\n",
            "0.683 (+/-0.042) for {'svc__C': 100, 'svc__gamma': 0.0001, 'svc__kernel': 'linear'}\n",
            "0.675 (+/-0.075) for {'svc__C': 100, 'svc__gamma': 0.0001, 'svc__kernel': 'rbf'}\n",
            "\n",
            "Detailed classification report:\n",
            "\n",
            "The model is trained on the full development set.\n",
            "The scores are computed on the full evaluation set.\n",
            "\n",
            "              precision    recall  f1-score   support\n",
            "\n",
            "         0.0       0.65      0.71      0.68        51\n",
            "         1.0       0.79      0.75      0.77        76\n",
            "\n",
            "    accuracy                           0.73       127\n",
            "   macro avg       0.72      0.73      0.72       127\n",
            "weighted avg       0.74      0.73      0.73       127\n",
            "\n",
            "\n"
          ],
          "name": "stdout"
        }
      ]
    },
    {
      "cell_type": "code",
      "metadata": {
        "id": "OUH5_gb4BLSe",
        "outputId": "c3779376-f42a-4177-f2ad-523a9fc1ba2f",
        "colab": {
          "base_uri": "https://localhost:8080/",
          "height": 359
        }
      },
      "source": [
        "class_names = ['NO TUMOR', 'TUMOR']\n",
        "disp = plot_confusion_matrix(clf, X_test, y_test, display_labels=class_names,\n",
        "                             normalize='true')\n",
        "disp.figure_.suptitle(\"Confusion Matrix\")\n",
        "print(f\"Confusion matrix:\\n{disp.confusion_matrix}\")\n",
        "\n",
        "plt.show()"
      ],
      "execution_count": 32,
      "outputs": [
        {
          "output_type": "stream",
          "text": [
            "Confusion matrix:\n",
            "[[0.70588235 0.29411765]\n",
            " [0.25       0.75      ]]\n"
          ],
          "name": "stdout"
        },
        {
          "output_type": "display_data",
          "data": {
            "image/png": "[encoded data removed]",
            "text/plain": [
              "<Figure size 432x288 with 2 Axes>"
            ]
          },
          "metadata": {
            "tags": [],
            "needs_background": "light"
          }
        }
      ]
    },
    {
      "cell_type": "markdown",
      "metadata": {
        "id": "rOqxM3KcB4PQ"
      },
      "source": [
        "Proporcionalmente, o modelo errou mais classificando \"sem tumor\" como \"tumor\", tendo então mais falsos positivos"
      ]
    }
  ]
}
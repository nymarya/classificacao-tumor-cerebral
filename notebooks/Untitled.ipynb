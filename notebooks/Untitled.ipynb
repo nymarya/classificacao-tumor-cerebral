{
 "cells": [
  {
   "cell_type": "code",
   "execution_count": 2,
   "metadata": {},
   "outputs": [
    {
     "name": "stderr",
     "output_type": "stream",
     "text": [
      "/home/mayra/miniconda3/lib/python3.7/site-packages/scipy/__init__.py:140: UserWarning: A NumPy version >=1.16.5 and <1.23.0 is required for this version of SciPy (detected version 1.16.4)\n",
      "  UserWarning)\n"
     ]
    }
   ],
   "source": [
    "from sklearn import svm\n",
    "from sklearn.decomposition import PCA\n",
    "from sklearn.model_selection import GridSearchCV, train_test_split\n",
    "from sklearn.pipeline import Pipeline\n",
    "\n",
    "import numpy as np\n",
    "from math import ceil, floor\n",
    "\n",
    "import matplotlib.image as mpimg\n",
    "import matplotlib.pyplot as plt\n",
    "import random\n",
    "import cv2\n",
    "\n",
    "import os"
   ]
  },
  {
   "cell_type": "code",
   "execution_count": 3,
   "metadata": {},
   "outputs": [],
   "source": [
    "path = '../data/processed'"
   ]
  },
  {
   "cell_type": "code",
   "execution_count": 11,
   "metadata": {},
   "outputs": [],
   "source": [
    "brain_tumor_n = []\n",
    "brain_tumor_y = []\n",
    "\n",
    "folder = f\"{path}/no\"\n",
    "abs_path = os.path.abspath(folder)\n",
    "with os.scandir(folder) as images:\n",
    "    for i, image in enumerate(images):\n",
    "        img = cv2.imread(f\"{abs_path}/{image.name}\", 0)\n",
    "        if image.name.endswith('.jpg'):\n",
    "            brain_tumor_n.append(img)\n",
    "        \n",
    "folder = f\"{path}/yes\"\n",
    "abs_path = os.path.abspath(folder)\n",
    "with os.scandir(folder) as images:\n",
    "    for i, image in enumerate(images):\n",
    "        img = cv2.imread(f\"{abs_path}/{image.name}\", 0)\n",
    "        if image.name.endswith('.jpg'):\n",
    "            brain_tumor_y.append(img)"
   ]
  },
  {
   "cell_type": "code",
   "execution_count": 25,
   "metadata": {},
   "outputs": [],
   "source": [
    "n_no = len(brain_tumor_n)\n",
    "n_yes = len(brain_tumor_y) \n",
    "w, h = brain_tumor_n[0].shape\n",
    "\n",
    "# une imagens\n",
    "flatten_n = np.array(brain_tumor_n).reshape(n_no, w * h)\n",
    "flatten_y = np.array(brain_tumor_y).reshape(n_yes, w * h)\n",
    "X = np.concatenate((flatten_n,  flatten_y ))\n",
    "\n",
    "#recupera targets\n",
    "# 0 -> sem tumor, 1 -> com tumor\n",
    "y = np.concatenate( (np.zeros(n_no), np.ones(n_yes) ), axis=0)\n",
    "assert(y.shape[0] == X.shape[0])"
   ]
  },
  {
   "cell_type": "code",
   "execution_count": 26,
   "metadata": {},
   "outputs": [],
   "source": [
    "X_train, X_test, y_train, y_test = train_test_split(\n",
    "    X, y, test_size=0.5)"
   ]
  },
  {
   "cell_type": "code",
   "execution_count": 27,
   "metadata": {},
   "outputs": [
    {
     "data": {
      "text/plain": [
       "(126, 22500)"
      ]
     },
     "execution_count": 27,
     "metadata": {},
     "output_type": "execute_result"
    }
   ],
   "source": [
    "X_train.shape"
   ]
  },
  {
   "cell_type": "code",
   "execution_count": 30,
   "metadata": {},
   "outputs": [
    {
     "data": {
      "text/plain": [
       "(1797, 9)"
      ]
     },
     "execution_count": 30,
     "metadata": {},
     "output_type": "execute_result"
    }
   ],
   "source": [
    "pca = PCA(n_components = 0.7, whiten = True)\n",
    "pca.fit(X_train)\n",
    "projected = pca.fit_transform(digits.data)\n",
    "projected.shape"
   ]
  },
  {
   "cell_type": "code",
   "execution_count": null,
   "metadata": {},
   "outputs": [],
   "source": [
    "parameters = {'pca__n_components': [0.6, 0.7, 0.8]}\n",
    "              #'svc__kernel':('linear', 'rbf'), 'svc__C':[1, 10]}\n",
    "\n",
    "pca = PCA(whiten = True)\n",
    "svc = svm.SVC()\n",
    "pipe = Pipeline(steps=[('pca', pca)])\n",
    "\n",
    "clf = GridSearchCV(pipe, parameters)\n",
    "clf.fit(X_train, y_train)"
   ]
  },
  {
   "cell_type": "code",
   "execution_count": null,
   "metadata": {},
   "outputs": [],
   "source": []
  }
 ],
 "metadata": {
  "kernelspec": {
   "display_name": "Python 3",
   "language": "python",
   "name": "python3"
  },
  "language_info": {
   "codemirror_mode": {
    "name": "ipython",
    "version": 3
   },
   "file_extension": ".py",
   "mimetype": "text/x-python",
   "name": "python",
   "nbconvert_exporter": "python",
   "pygments_lexer": "ipython3",
   "version": "3.7.6"
  }
 },
 "nbformat": 4,
 "nbformat_minor": 4
}
